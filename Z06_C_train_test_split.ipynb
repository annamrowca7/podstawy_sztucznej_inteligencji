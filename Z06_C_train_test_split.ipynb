{
 "cells": [
  {
   "cell_type": "markdown",
   "metadata": {},
   "source": [
    "# Train test split\n"
   ]
  },
  {
   "cell_type": "code",
   "execution_count": 1,
   "metadata": {
    "collapsed": true
   },
   "outputs": [],
   "source": [
    "import numpy as np\n",
    "import pandas as pd\n",
    "import scipy.stats as stats\n",
    "import sklearn.linear_model as lm\n",
    "from sklearn import datasets, linear_model\n",
    "import matplotlib.pyplot as plt\n",
    "\n",
    "from sklearn.preprocessing import PolynomialFeatures\n",
    "from sklearn.pipeline import make_pipeline\n",
    "\n",
    "from sklearn import  metrics"
   ]
  },
  {
   "cell_type": "markdown",
   "metadata": {},
   "source": [
    "Rozważmy następujący zbiór punktów:"
   ]
  },
  {
   "cell_type": "code",
   "execution_count": 2,
   "metadata": {},
   "outputs": [
    {
     "data": {
      "image/png": "[encoded data removed]",
      "text/plain": [
       "<Figure size 432x288 with 1 Axes>"
      ]
     },
     "metadata": {
      "needs_background": "light"
     },
     "output_type": "display_data"
    }
   ],
   "source": [
    "x = stats.uniform(0,3).rvs(100)\n",
    "f = lambda x: ((x*2-1)*(x**2-2)*(x-2)+3)\n",
    "y = f(x) + stats.norm(0,0.3).rvs(len(x))\n",
    "plt.plot(x, y, 'ok', ms=10);\n",
    "plt.show()"
   ]
  },
  {
   "cell_type": "markdown",
   "metadata": {},
   "source": [
    "# Przykład\n",
    "Podziel zbiór danych na część testową i treningową. \n",
    "Naucz model na części treningowej i ocen wyniki na części testowej."
   ]
  },
  {
   "cell_type": "code",
   "execution_count": 3,
   "metadata": {},
   "outputs": [
    {
     "name": "stdout",
     "output_type": "stream",
     "text": [
      "(60,) (60,)\n",
      "(40,) (40,)\n"
     ]
    }
   ],
   "source": [
    "from sklearn.model_selection import train_test_split\n",
    "X_train, X_test, y_train, y_test = train_test_split(x, y, test_size=0.4, random_state=0)\n",
    "\n",
    "print(X_train.shape, y_train.shape)\n",
    "print(X_test.shape, y_test.shape)"
   ]
  },
  {
   "cell_type": "code",
   "execution_count": 4,
   "metadata": {
    "collapsed": true
   },
   "outputs": [],
   "source": [
    "X_train=np.vstack(X_train)\n",
    "X_test=np.vstack(X_test)"
   ]
  },
  {
   "cell_type": "code",
   "execution_count": 5,
   "metadata": {},
   "outputs": [
    {
     "data": {
      "text/plain": [
       "array([ 1.44642389e+00, -5.38902540e-01,  1.43616304e-01,  4.71585671e-01,\n",
       "       -9.18366536e-01,  2.59897608e+01,  1.48941546e+00, -7.03037358e-01,\n",
       "        2.73671710e+00,  4.39878946e+00,  8.32920995e-01,  3.88196880e+00,\n",
       "        7.45554067e-01,  5.83056290e+00,  3.51293868e+00, -7.25679976e-01,\n",
       "        1.56018333e+01, -9.18900992e-01, -7.03281364e-01,  9.60733915e+00,\n",
       "        2.93580940e+00,  1.92921132e-01,  5.95067467e+00,  7.50622977e-01,\n",
       "        1.63211771e+01,  2.42476286e-01,  3.55392635e+00,  2.10962548e+01,\n",
       "        1.11510512e+01,  3.13335415e+00,  2.36215836e+00,  1.98640938e+00,\n",
       "        8.94440957e+00,  5.03812737e-01,  3.85350472e+00,  8.35134407e-01,\n",
       "        1.69632765e+00, -2.53959964e-02, -4.79559336e-01,  1.31711367e+01])"
      ]
     },
     "execution_count": 5,
     "metadata": {},
     "output_type": "execute_result"
    }
   ],
   "source": [
    "model2 = make_pipeline(PolynomialFeatures(2), linear_model.LinearRegression())\n",
    "model2.fit(X_train, y_train)\n",
    "model2.predict(X_test)"
   ]
  },
  {
   "cell_type": "code",
   "execution_count": 6,
   "metadata": {},
   "outputs": [
    {
     "name": "stdout",
     "output_type": "stream",
     "text": [
      "Explained variance score: 0.6785937244140945\n",
      "Explained variance score: 0.6785937244140945\n",
      "Median absolute error: 2.8803586527224114\n",
      "Mean squared error: 10.520408248141685\n",
      "Mean absolute errors: 2.8355008029343507\n"
     ]
    }
   ],
   "source": [
    "print(\"Explained variance score: {}\".format( metrics.explained_variance_score(y_test, model2.predict(X_test)) ))\n",
    "print(\"Explained variance score: {}\".format( metrics.explained_variance_score(y_test, model2.predict(X_test)) ))\n",
    "print(\"Median absolute error: {}\".format( metrics.median_absolute_error(y_test, model2.predict(X_test)) ))\n",
    "print(\"Mean squared error: {}\".format( metrics.mean_squared_error(y_test, model2.predict(X_test)) ))\n",
    "print(\"Mean absolute errors: {}\".format(metrics.mean_absolute_error(y_test, model2.predict(X_test)) ))"
   ]
  },
  {
   "cell_type": "markdown",
   "metadata": {},
   "source": [
    "# Zadanie\n",
    "Wylicz powyższe miary na zbiorze testowym dla wszystkich modeli nauczonych na trainie:\n",
    "\n",
    "- regrsji linowej\n",
    "- regrsji wielomianowej stopnia 2\n",
    "- regrsji wielomianowej stopnia 3\n",
    "- regrsji wielomianowej stopnia 4\n",
    "- regrsji wielomianowej stopnia 5\n",
    "- regrsji wielomianowej stopnia 25"
   ]
  },
  {
   "cell_type": "code",
   "execution_count": 10,
   "metadata": {
    "collapsed": true
   },
   "outputs": [
    {
     "name": "stdout",
     "output_type": "stream",
     "text": [
      "2 :\n",
      "Explained variance score: 0.9137285949239008\n",
      "Explained variance score: 0.9137285949239008\n",
      "Median absolute error: 0.15093279261275416\n",
      "Mean squared error: 0.049296458938460144\n",
      "Mean absolute errors: 0.18851922075287864\n",
      "3 :\n",
      "Explained variance score: 0.9738779671107508\n",
      "Explained variance score: 0.9738779671107508\n",
      "Median absolute error: 0.08113554001196843\n",
      "Mean squared error: 0.01571476171961742\n",
      "Mean absolute errors: 0.09823442869417047\n",
      "4 :\n",
      "Explained variance score: 0.9504963128468786\n",
      "Explained variance score: 0.9504963128468786\n",
      "Median absolute error: 0.11355129858270158\n",
      "Mean squared error: 0.03498796409604015\n",
      "Mean absolute errors: 0.14672202053812172\n",
      "5 :\n",
      "Explained variance score: 0.3991116814591116\n",
      "Explained variance score: 0.3991116814591116\n",
      "Median absolute error: 0.16746736044705401\n",
      "Mean squared error: 0.4948546732350092\n",
      "Mean absolute errors: 0.44845452245785977\n",
      "25 :\n",
      "Explained variance score: -2917600837.4948287\n",
      "Explained variance score: -2917600837.4948287\n",
      "Median absolute error: 34.83180441898257\n",
      "Mean squared error: 2197656488.6910768\n",
      "Mean absolute errors: 23706.43594143427\n"
     ]
    }
   ],
   "source": [
    "for i in {2,3,4,5,25}:\n",
    "    print(i,\":\")\n",
    "    X_train=np.vstack(X_train)\n",
    "    X_test=np.vstack(X_test)\n",
    "    model2 = make_pipeline(PolynomialFeatures(i), linear_model.LinearRegression())\n",
    "    model2.fit(X_train, y_train)\n",
    "    model2.predict(X_test)\n",
    "    print(\"Explained variance score: {}\".format( metrics.explained_variance_score(y_test, model2.predict(X_test)) ))\n",
    "    print(\"Explained variance score: {}\".format( metrics.explained_variance_score(y_test, model2.predict(X_test)) ))\n",
    "    print(\"Median absolute error: {}\".format( metrics.median_absolute_error(y_test, model2.predict(X_test)) ))\n",
    "    print(\"Mean squared error: {}\".format( metrics.mean_squared_error(y_test, model2.predict(X_test)) ))\n",
    "    print(\"Mean absolute errors: {}\".format(metrics.mean_absolute_error(y_test, model2.predict(X_test)) ))"
   ]
  },
  {
   "cell_type": "code",
   "execution_count": null,
   "metadata": {},
   "outputs": [],
   "source": []
  }
 ],
 "metadata": {
  "kernelspec": {
   "display_name": "Python 3",
   "language": "python",
   "name": "python3"
  },
  "language_info": {
   "codemirror_mode": {
    "name": "ipython",
    "version": 3
   },
   "file_extension": ".py",
   "mimetype": "text/x-python",
   "name": "python",
   "nbconvert_exporter": "python",
   "pygments_lexer": "ipython3",
   "version": "3.9.7"
  }
 },
 "nbformat": 4,
 "nbformat_minor": 2
}
